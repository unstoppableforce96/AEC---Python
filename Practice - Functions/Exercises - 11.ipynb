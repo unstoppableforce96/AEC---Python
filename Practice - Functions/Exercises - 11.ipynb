{
 "cells": [
  {
   "cell_type": "markdown",
   "id": "d6c0c807",
   "metadata": {},
   "source": [
    "# Tasks on User Defined Functions"
   ]
  },
  {
   "cell_type": "markdown",
   "id": "ef299a3f",
   "metadata": {},
   "source": [
    "## \n",
    "Create and make a proper call to a UDF which **DOESN'T TAKE** any values as arguments and **PRINTS** Hello World! onto the screen, everytime it's called"
   ]
  },
  {
   "cell_type": "code",
   "execution_count": null,
   "id": "06daf936",
   "metadata": {},
   "outputs": [],
   "source": [
    "# Define your function here\n",
    "\n",
    "# Call your function here\n"
   ]
  },
  {
   "cell_type": "markdown",
   "id": "399a3982",
   "metadata": {},
   "source": [
    "## \n",
    "Create and make a proper call to a UDF which **DOESN'T TAKE** any values as arguments and **PRINTS**  \n",
    "***We Aliens Welcome You Human to Our Planet MARS. Prepare to Die!!!*** onto the screen, everytime it's called"
   ]
  },
  {
   "cell_type": "code",
   "execution_count": null,
   "id": "def2589a",
   "metadata": {},
   "outputs": [],
   "source": [
    "# Define your function here\n",
    "\n",
    "# Call your function here\n"
   ]
  },
  {
   "cell_type": "markdown",
   "id": "e6238118",
   "metadata": {},
   "source": [
    "## \n",
    "Create and make a proper call to a UDF with the following properties\n",
    "- Function should not have any arguments\n",
    "- Function should not return anything\n",
    "- Upon Call function should take three details from user \n",
    "    1. Name\n",
    "    2. City\n",
    "    3. Country\n",
    "- And it should  PRINT the following\n",
    "    ***Name from City, Country***\n",
    "- Example: If Name is Mukesh Ambani, City is Mumbai and Country is India then the output should be\n",
    "    ***Mukesh Ambani from Mumbai, India***"
   ]
  },
  {
   "cell_type": "code",
   "execution_count": 6,
   "id": "b529c8b5",
   "metadata": {},
   "outputs": [
    {
     "name": "stdout",
     "output_type": "stream",
     "text": [
      "Enter name: Elon Musk\n",
      "Enter city: New York\n",
      "Enter country: U\n",
      "Elon Musk from New York, U\n"
     ]
    }
   ],
   "source": [
    "# Define your function here\n",
    "\n",
    "\n",
    "# Call your function here\n"
   ]
  },
  {
   "cell_type": "markdown",
   "id": "348af9e7",
   "metadata": {},
   "source": [
    "## \n",
    "Create and make a proper call to a UDF with the following properties\n",
    "- Function should take 3 arguments num1, num2 and num3\n",
    "- Function should not return anything\n",
    "- Upon Call, function should **calculate the product of num1 and num3 and then should add the result to num2 and PRINT the final result**"
   ]
  },
  {
   "cell_type": "code",
   "execution_count": 1,
   "id": "e3d39646",
   "metadata": {},
   "outputs": [
    {
     "name": "stdout",
     "output_type": "stream",
     "text": [
      "320\n"
     ]
    }
   ],
   "source": [
    "# Define your function here\n",
    "\n",
    "\n",
    "# Call your function here\n"
   ]
  },
  {
   "cell_type": "markdown",
   "id": "951649dd",
   "metadata": {},
   "source": [
    "## \n",
    "Create and make a proper call to a UDF with the following properties\n",
    "- Function should take 2 arguments start and stop\n",
    "- Function should not return anything\n",
    "- Upon Call, function should **PRINT the all the numbers from start to stop (inclusive)**"
   ]
  },
  {
   "cell_type": "code",
   "execution_count": 5,
   "id": "db43a0bc",
   "metadata": {},
   "outputs": [],
   "source": [
    "# Define your function here\n",
    "\n",
    "\n",
    "# Call your function here\n"
   ]
  },
  {
   "cell_type": "markdown",
   "id": "a064194a",
   "metadata": {},
   "source": [
    "## \n",
    "Create and make a proper call to a UDF with the following properties\n",
    "- Function should take 2 arguments n and r\n",
    "- Function should not return anything\n",
    "- Upon Call, function should **PRINT the multiplication table of n upto r terms (from 1)**"
   ]
  },
  {
   "cell_type": "code",
   "execution_count": 1,
   "id": "cf46d7b1",
   "metadata": {},
   "outputs": [
    {
     "name": "stdout",
     "output_type": "stream",
     "text": [
      "5 x 1 = 5\n",
      "5 x 2 = 10\n",
      "5 x 3 = 15\n",
      "5 x 4 = 20\n",
      "5 x 5 = 25\n",
      "5 x 6 = 30\n",
      "5 x 7 = 35\n",
      "5 x 8 = 40\n",
      "5 x 9 = 45\n",
      "5 x 10 = 50\n",
      "5 x 11 = 55\n",
      "5 x 12 = 60\n"
     ]
    }
   ],
   "source": [
    "# Define your function here\n",
    "\n",
    "\n",
    "# Call your function here\n"
   ]
  },
  {
   "cell_type": "markdown",
   "id": "b53710f1",
   "metadata": {},
   "source": [
    "## \n",
    "Create and make a proper call to a UDF with the following properties\n",
    "- Function should take 3 arguments a, b and c\n",
    "- Function should not return anything\n",
    "- Upon Call, function should **PRINT all the numbers from a to b with a difference of c**"
   ]
  },
  {
   "cell_type": "code",
   "execution_count": null,
   "id": "e3170a6e",
   "metadata": {},
   "outputs": [],
   "source": [
    "# Define your function here\n",
    "\n",
    "\n",
    "# Call your function here\n"
   ]
  },
  {
   "cell_type": "markdown",
   "id": "66629130",
   "metadata": {},
   "source": [
    "## \n",
    "Create and make a proper call to a UDF with the following properties\n",
    "- Function should take 1 argument percentage (float)\n",
    "- Function should not return anything\n",
    "- Upon Call, function should **PRINT the character grade based on the percentage. Grading criteria is given below**\n",
    "\n",
    "**Grading Criteria**\n",
    "\n",
    "|Percentage Range|Grade|\n",
    "|:----------:|:-------:|\n",
    "|percentage>=90|O|\n",
    "|80<=percentage<90|A|\n",
    "|70<=percentage<80|B|\n",
    "|60<=percentage<70|C|\n",
    "|50<=percentage<60|D|\n",
    "|35<=percentage<50|E|\n",
    "|percentage<35|F|"
   ]
  },
  {
   "cell_type": "code",
   "execution_count": 2,
   "id": "de21d34f",
   "metadata": {},
   "outputs": [],
   "source": [
    "# Define your function here\n",
    "\n",
    "# Call your function here\n"
   ]
  },
  {
   "cell_type": "markdown",
   "id": "b79e08c5",
   "metadata": {},
   "source": [
    "## \n",
    "Create and make a proper call to a UDF with the following properties\n",
    "- Function should take 2 arguments a string and a number\n",
    "- Function should not return anything\n",
    "- Upon Call, function should **PRINT all the characters in the given string whose UNICODE CODE POINT VALUE is less than the given number**"
   ]
  },
  {
   "cell_type": "code",
   "execution_count": null,
   "id": "a8b124bd",
   "metadata": {},
   "outputs": [],
   "source": [
    "# Define your function here\n",
    "\n",
    "\n",
    "# Call your function here\n"
   ]
  },
  {
   "cell_type": "markdown",
   "id": "93baffc4",
   "metadata": {},
   "source": [
    "## \n",
    "Create and make a proper call to a UDF with the following properties\n",
    "- Function should take 2 arguments n (an integer) and name (a string)\n",
    "- Function should not return anything\n",
    "- Upon Call, function should **PRINT the given name for n times**"
   ]
  },
  {
   "cell_type": "code",
   "execution_count": null,
   "id": "127ccf7d",
   "metadata": {},
   "outputs": [],
   "source": [
    "# Define your function here\n",
    "\n",
    "\n",
    "# Call your function here\n"
   ]
  },
  {
   "cell_type": "markdown",
   "id": "dd2ae6ba",
   "metadata": {},
   "source": [
    "## \n",
    "Create and make a proper call to a UDF with the following properties\n",
    "- Function should take 6 arguments\n",
    "- arg1 -> name, which is the name of the student\n",
    "- arg2 to arg6 -> marks scored by the student in 5 different subjects (out of 100)\n",
    "- Function should not return anything\n",
    "- Upon Call, function should **calculate the total marks and the percentage based on marks and should PRINT them to screen**"
   ]
  },
  {
   "cell_type": "code",
   "execution_count": null,
   "id": "2d8bcb39",
   "metadata": {},
   "outputs": [],
   "source": [
    "# Define your function here\n",
    "\n",
    "\n",
    "# Call your function here\n"
   ]
  },
  {
   "cell_type": "markdown",
   "id": "1d0e2d4a",
   "metadata": {},
   "source": [
    "## \n",
    "Create and make a proper call to a UDF with the following properties\n",
    "- Function should take 4 arguments namely start, stop, num1, num2\n",
    "- Function should not return anything\n",
    "- Upon Call, function should **PRINT all the numbers from start to stop that are divisible by num1 but not by num2**"
   ]
  },
  {
   "cell_type": "code",
   "execution_count": null,
   "id": "c4b3296b",
   "metadata": {},
   "outputs": [],
   "source": [
    "# Define your function here\n",
    "\n",
    "\n",
    "# Call your function here\n"
   ]
  },
  {
   "cell_type": "markdown",
   "id": "81edfacd",
   "metadata": {},
   "source": [
    "## \n",
    "Create and make a proper call to a UDF with the following properties\n",
    "- Function should take 3 arguments (all strings) str1, str2, str3\n",
    "- Function should not return anything\n",
    "- Upon Call, function should **PRINT sum of UNICODE CODE POINT VALUES of maximum and minimum characters in each string**"
   ]
  },
  {
   "cell_type": "code",
   "execution_count": 75,
   "id": "71d9d22c",
   "metadata": {},
   "outputs": [],
   "source": [
    "# Define your function here\n",
    "\n",
    "\n",
    "# Call your function here\n"
   ]
  },
  {
   "cell_type": "markdown",
   "id": "5b08f1f9",
   "metadata": {},
   "source": [
    "## \n",
    "Create and make a proper call to a UDF with the following properties\n",
    "- Function should take 2 arguments num1 and num2\n",
    "- Function should not return anything\n",
    "- Upon Call, function should PRINT either YES or NO \n",
    "    1. YES - If num2 if a factor of num1\n",
    "    2. NO - Ohterwise"
   ]
  },
  {
   "cell_type": "markdown",
   "id": "b8f3fd6d",
   "metadata": {},
   "source": [
    "## \n",
    "Create and make a proper call to a UDF with the following properties\n",
    "- Function should take 3 arguments num1 and num2 and num3\n",
    "- Upon Call, function should RETURN the sum of num1, num2 and num3"
   ]
  },
  {
   "cell_type": "code",
   "execution_count": null,
   "id": "38df9215",
   "metadata": {},
   "outputs": [],
   "source": [
    "# Define your function here\n",
    "\n",
    "\n",
    "# Call your function here\n"
   ]
  },
  {
   "cell_type": "markdown",
   "id": "1a7cf365",
   "metadata": {},
   "source": [
    "## \n",
    "Create and make a proper call to a UDF with the following properties\n",
    "- Function should take 3 arguments, PRINCIPAL, TIME AND RATE\n",
    "- Upon Call, function should RETURN SIMPLE INTEREST"
   ]
  },
  {
   "cell_type": "code",
   "execution_count": null,
   "id": "ee0ff4db",
   "metadata": {},
   "outputs": [],
   "source": [
    "# Define your function here\n",
    "\n",
    "\n",
    "# Call your function here\n"
   ]
  },
  {
   "cell_type": "markdown",
   "id": "204a31b1",
   "metadata": {},
   "source": [
    "## \n",
    "Create and make a proper call to a UDF with the following properties\n",
    "- Function should take 2 arguments n, i\n",
    "- Upon Call, function should RETURN (a boolean value - True / False) either \n",
    "    - True - if i is a factor of n\n",
    "    - False - otherwise"
   ]
  },
  {
   "cell_type": "code",
   "execution_count": null,
   "id": "cccb8fc4",
   "metadata": {},
   "outputs": [],
   "source": [
    "# Define your function here\n",
    "\n",
    "\n",
    "# Call your function here\n"
   ]
  },
  {
   "cell_type": "markdown",
   "id": "79d68c61",
   "metadata": {},
   "source": [
    "## \n",
    "Create and make a proper call to a UDF with the following properties\n",
    "- Function should take 3 arguments a, b, choice\n",
    "- Upon Call, function should RETURN \n",
    "    - Sum of a and b if choice is 1\n",
    "    - Difference (Absolute) of a and b if choice is 2\n",
    "    - Product of a and b if choice is 3\n",
    "    - Invaid Choice if choice isn't any of the values mentioned above"
   ]
  },
  {
   "cell_type": "code",
   "execution_count": null,
   "id": "b7a9595a",
   "metadata": {},
   "outputs": [],
   "source": [
    "# Define your function here\n",
    "\n",
    "    \n",
    "\n",
    "# Call your function here\n"
   ]
  },
  {
   "cell_type": "markdown",
   "id": "44f3512c",
   "metadata": {},
   "source": [
    "## \n",
    "Create and make a proper call to a UDF with the following properties\n",
    "- Function should take 1 arguments n\n",
    "- Upon Call, function should RETURN number of factors n is having"
   ]
  },
  {
   "cell_type": "code",
   "execution_count": 3,
   "id": "8819ee05",
   "metadata": {},
   "outputs": [],
   "source": [
    "# Define your function here\n",
    "\n",
    "\n",
    "# Call your function here\n"
   ]
  },
  {
   "cell_type": "markdown",
   "id": "ec8b8a87",
   "metadata": {},
   "source": [
    "## \n",
    "Create and make a proper call to a UDF with the following properties\n",
    "- Function should take 1 argument n\n",
    "- Upon Call, function should RETURN the proper factor sum of n"
   ]
  },
  {
   "cell_type": "code",
   "execution_count": null,
   "id": "054fb979",
   "metadata": {},
   "outputs": [],
   "source": [
    "# Define your function here\n",
    "\n",
    "\n",
    "# Call your function here\n"
   ]
  },
  {
   "cell_type": "markdown",
   "id": "8acf9986",
   "metadata": {},
   "source": [
    "## \n",
    "Create and make a proper call to a UDF with the following properties\n",
    "- Function should take 1 arguments num\n",
    "- Upon Call, function should RETURN a boolean value - True / False\n",
    "    - True - if num is a prime\n",
    "    - False - otherwise"
   ]
  },
  {
   "cell_type": "code",
   "execution_count": null,
   "id": "d91fa470",
   "metadata": {},
   "outputs": [],
   "source": [
    "# Define your function here\n",
    "\n",
    "\n",
    "# Call your function here\n"
   ]
  },
  {
   "cell_type": "markdown",
   "id": "0047aafb",
   "metadata": {},
   "source": [
    "## \n",
    "Create and make a proper call to a UDF with the following properties\n",
    "- Function should take 3 arguments l, r, k\n",
    "- Upon Call, function should RETURN the count of numbers from l to r (inclusive) that are divisible by k"
   ]
  },
  {
   "cell_type": "code",
   "execution_count": null,
   "id": "39803228",
   "metadata": {},
   "outputs": [],
   "source": [
    "# Define your function here\n",
    "\n",
    "\n",
    "# Call your function here\n"
   ]
  },
  {
   "cell_type": "markdown",
   "id": "243add12",
   "metadata": {},
   "source": [
    "## \n",
    "Create and make a proper call to a UDF with the following properties\n",
    "- Function should take 1 argument, number\n",
    "- Upon Call, function should RETURN the reverse of the number"
   ]
  },
  {
   "cell_type": "code",
   "execution_count": null,
   "id": "5f45ec30",
   "metadata": {},
   "outputs": [],
   "source": [
    "# Define your function here\n",
    "\n",
    "\n",
    "# Call your function here\n"
   ]
  },
  {
   "cell_type": "markdown",
   "id": "1c2a25bf",
   "metadata": {},
   "source": [
    "## \n",
    "Create and make a proper call to a UDF with the following properties\n",
    "- Function should take 1 argument, number\n",
    "- Upon Call, function should RETURN the sum of digits in that number"
   ]
  },
  {
   "cell_type": "code",
   "execution_count": null,
   "id": "7241e51c",
   "metadata": {},
   "outputs": [],
   "source": [
    "# Define your function here\n",
    "\n",
    "\n",
    "# Call your function here\n"
   ]
  },
  {
   "cell_type": "markdown",
   "id": "fb1aaca8",
   "metadata": {},
   "source": [
    "## \n",
    "Create and make a proper call to a UDF with the following properties\n",
    "- Function should take 1 argument, number\n",
    "- Upon Call, function should RETURN the product of digits in that number"
   ]
  },
  {
   "cell_type": "code",
   "execution_count": 13,
   "id": "425a4671",
   "metadata": {},
   "outputs": [
    {
     "name": "stdout",
     "output_type": "stream",
     "text": [
      "6\n"
     ]
    }
   ],
   "source": [
    "# Define your function here\n",
    "def multiply_digits(number):\n",
    "    product = 1\n",
    "    while number > 0:\n",
    "        r = number % 10\n",
    "        product *= r\n",
    "        number = number // 10\n",
    "    return product\n",
    "\n",
    "# Call your function here\n"
   ]
  },
  {
   "cell_type": "markdown",
   "id": "05aa1d7b",
   "metadata": {},
   "source": [
    "## \n",
    "Create and make a proper call to a UDF with the following properties\n",
    "- Function should take 2 arguments, number and digit\n",
    "- Upon Call, function should RETURN a boolean value True / False\n",
    "    - True -> if digit is present in the given number\n",
    "    - False - otherwise"
   ]
  },
  {
   "cell_type": "code",
   "execution_count": null,
   "id": "54537402",
   "metadata": {},
   "outputs": [],
   "source": [
    "# Define your function here\n",
    "\n",
    "\n",
    "# Call your function here\n"
   ]
  },
  {
   "cell_type": "markdown",
   "id": "7c33ddf5",
   "metadata": {},
   "source": [
    "## \n",
    "Create and make a proper call to a UDF with the following properties\n",
    "- Function should take 2 arguments, number and digit\n",
    "- Upon Call, function should RETURN how many times digit is appeared in the given number"
   ]
  },
  {
   "cell_type": "code",
   "execution_count": null,
   "id": "3fc977a8",
   "metadata": {},
   "outputs": [],
   "source": [
    "# Define your function here\n",
    "\n",
    "\n",
    "# Call your function here\n"
   ]
  },
  {
   "cell_type": "markdown",
   "id": "69d4a8db",
   "metadata": {},
   "source": [
    "## \n",
    "Create and make a proper call to a UDF with the following properties\n",
    "- Function should take 1 argument, number\n",
    "- Upon Call, function should RETURN a boolean value True / False\n",
    "    - True - if given number is equal to it's reverse\n",
    "    - False - otherwise"
   ]
  },
  {
   "cell_type": "code",
   "execution_count": null,
   "id": "c1f4261b",
   "metadata": {},
   "outputs": [],
   "source": [
    "# Define your function here\n",
    "\n",
    "\n",
    "# Call your function here\n"
   ]
  },
  {
   "cell_type": "markdown",
   "id": "7f1795cc",
   "metadata": {},
   "source": [
    "## \n",
    "Create and make a proper call to a UDF with the following properties\n",
    "- Function should take 2 arguments, num1 and num2\n",
    "- Upon Call, function should RETURN a boolean value True / False\n",
    "    - True - if num2 is reverse of num1\n",
    "    - False - otherwise"
   ]
  },
  {
   "cell_type": "code",
   "execution_count": null,
   "id": "c64cd38f",
   "metadata": {},
   "outputs": [],
   "source": [
    "# Define your function here\n",
    "\n",
    "\n",
    "# Call your function here\n"
   ]
  },
  {
   "cell_type": "markdown",
   "id": "9b584d69",
   "metadata": {},
   "source": [
    "## \n",
    "Create and make a proper call to a UDF with the following properties\n",
    "- Function should take 2 arguments, string and num\n",
    "- Upon Call, function should RETURN the result when UNICODE CODEPOINT VALUE of the maximum character in string is multiplied with the number"
   ]
  },
  {
   "cell_type": "code",
   "execution_count": null,
   "id": "83e3e027",
   "metadata": {},
   "outputs": [],
   "source": [
    "# Define your function here\n",
    "\n",
    "\n",
    "# Call your function here\n"
   ]
  }
 ],
 "metadata": {
  "kernelspec": {
   "display_name": "Python 3 (ipykernel)",
   "language": "python",
   "name": "python3"
  },
  "language_info": {
   "codemirror_mode": {
    "name": "ipython",
    "version": 3
   },
   "file_extension": ".py",
   "mimetype": "text/x-python",
   "name": "python",
   "nbconvert_exporter": "python",
   "pygments_lexer": "ipython3",
   "version": "3.10.4"
  },
  "latex_envs": {
   "LaTeX_envs_menu_present": true,
   "autoclose": false,
   "autocomplete": true,
   "bibliofile": "biblio.bib",
   "cite_by": "apalike",
   "current_citInitial": 1,
   "eqLabelWithNumbers": true,
   "eqNumInitial": 1,
   "hotkeys": {
    "equation": "Ctrl-E",
    "itemize": "Ctrl-I"
   },
   "labels_anchors": false,
   "latex_user_defs": false,
   "report_style_numbering": false,
   "user_envs_cfg": false
  },
  "toc": {
   "base_numbering": 1,
   "nav_menu": {},
   "number_sections": true,
   "sideBar": true,
   "skip_h1_title": false,
   "title_cell": "Table of Contents",
   "title_sidebar": "Contents",
   "toc_cell": false,
   "toc_position": {},
   "toc_section_display": true,
   "toc_window_display": false
  }
 },
 "nbformat": 4,
 "nbformat_minor": 5
}
