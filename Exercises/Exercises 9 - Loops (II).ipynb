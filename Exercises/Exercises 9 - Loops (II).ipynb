{
 "cells": [
  {
   "cell_type": "markdown",
   "id": "a6ae83f1",
   "metadata": {},
   "source": [
    "# Programs on Loops (II) -  Sums, Products and More"
   ]
  },
  {
   "cell_type": "markdown",
   "id": "d3bfbdde",
   "metadata": {},
   "source": [
    "## Exercise 1\n",
    "\n",
    "**Find out the sum of first N NATURAL NUMBERS using a loop**\n",
    "\n",
    "**Sample I/O**  \n",
    "\n",
    "***Input1:***  \n",
    "5<br>\n",
    "***Output1:***  \n",
    "15  \n",
    "\n",
    "***Input2:***  \n",
    "10  \n",
    "***Output2:***  \n",
    "55  \n",
    "\n",
    "***Input3:***  \n",
    "123  \n",
    "***Output3:***  \n",
    "7626  \n",
    "\n",
    "***Input4:***  \n",
    "1257  \n",
    "***Output4:***  \n",
    "790653  "
   ]
  },
  {
   "cell_type": "code",
   "execution_count": 1,
   "id": "20e100d0",
   "metadata": {},
   "outputs": [],
   "source": [
    "# Write your code here using while loop\n"
   ]
  },
  {
   "cell_type": "code",
   "execution_count": 1,
   "id": "f9643796",
   "metadata": {},
   "outputs": [],
   "source": [
    "# Writer your code here using for loop\n"
   ]
  },
  {
   "cell_type": "markdown",
   "id": "d0abd3f5",
   "metadata": {},
   "source": [
    "## Exercise 2\n",
    "\n",
    "**Find out the sum of first N EVEN NATURAL NUMBERS using a loop**\n",
    "\n",
    "\n",
    "**Sample I/O**  \n",
    "\n",
    "***Input1:***  \n",
    "5<br>\n",
    "***Output1:***  \n",
    "30  \n",
    "\n",
    "***Input2:***  \n",
    "10  \n",
    "***Output2:***  \n",
    "110  \n",
    "\n",
    "***Input3:***  \n",
    "123  \n",
    "***Output3:***  \n",
    "15252  \n",
    "\n",
    "***Input4:***  \n",
    "1257  \n",
    "***Output4:***  \n",
    "1581306  "
   ]
  },
  {
   "cell_type": "code",
   "execution_count": null,
   "id": "6f794811",
   "metadata": {},
   "outputs": [],
   "source": [
    "# Write your code here using while loop\n"
   ]
  },
  {
   "cell_type": "code",
   "execution_count": null,
   "id": "80c11e6e",
   "metadata": {},
   "outputs": [],
   "source": [
    "# Write your code here using for loop\n"
   ]
  },
  {
   "cell_type": "markdown",
   "id": "addb9f9a",
   "metadata": {},
   "source": [
    "## Exercise 3\n",
    "\n",
    "**Find out the sum of first N ODD NATURAL NUMBERS using a loop**\n",
    "\n",
    "\n",
    "**Sample I/O**  \n",
    "\n",
    "***Input1:***  \n",
    "5<br>\n",
    "***Output1:***  \n",
    "25  \n",
    "\n",
    "***Input2:***  \n",
    "10  \n",
    "***Output2:***  \n",
    "100  \n",
    "\n",
    "***Input3:***  \n",
    "123  \n",
    "***Output3:***  \n",
    "15129  \n",
    "\n",
    "***Input4:***  \n",
    "1257  \n",
    "***Output4:***  \n",
    "1580049  "
   ]
  },
  {
   "cell_type": "code",
   "execution_count": null,
   "id": "1de7c542",
   "metadata": {},
   "outputs": [],
   "source": [
    "# Write your code here using while loop\n"
   ]
  },
  {
   "cell_type": "code",
   "execution_count": null,
   "id": "9fc6aebf",
   "metadata": {},
   "outputs": [],
   "source": [
    "# Write your code here using for loop\n"
   ]
  },
  {
   "cell_type": "markdown",
   "id": "0edeb7c3",
   "metadata": {},
   "source": [
    "## Exercise 4\n",
    "\n",
    "**Given two values A and B find out the following sum**\n",
    "\n",
    "$$ \\sum_{i=A}^{B} i^2 $$\n",
    "\n",
    "- It is guaranteed that $A < B$.\n",
    "\n",
    "In other words, **Given A and B, find out the SUM OF SQUARES OF ALL NUMBERS FROM A TO B (INCLUSIVE)**\n",
    "\n",
    "***Example:***\n",
    "\n",
    "Let's suppose A = 1 and B = 5, Now you have to find out\n",
    "\n",
    "$ 1^2 + 2^2 + 3^2 + 4^2 + 5^2  = 1 + 4 + 9 + 16 + 25 = 55 $\n",
    "\n",
    "**Sample I/O**  \n",
    "\n",
    "***Input1:***  \n",
    "1 5  \n",
    "***Output1:***  \n",
    "55  \n",
    "\n",
    "***Input2:***  \n",
    "17 23  \n",
    "***Output2:***  \n",
    "2828  \n",
    "\n",
    "***Input3:***  \n",
    "123 231  \n",
    "***Output3:***  \n",
    "3522771  \n",
    "\n",
    "***Input4:***  \n",
    "1000 1001  \n",
    "***Output4:***  \n",
    "2002001"
   ]
  },
  {
   "cell_type": "code",
   "execution_count": null,
   "id": "c33c7d73",
   "metadata": {},
   "outputs": [],
   "source": [
    "# Write your code here using while loop\n"
   ]
  },
  {
   "cell_type": "code",
   "execution_count": 2,
   "id": "fe09666b",
   "metadata": {},
   "outputs": [],
   "source": [
    "# Write your code here using for loop\n"
   ]
  },
  {
   "cell_type": "markdown",
   "id": "2791b281",
   "metadata": {},
   "source": [
    "## Exercise 5\n",
    "\n",
    "**Given two values A and B find out the following sum**\n",
    "\n",
    "$$ \\sum_{i=B}^{A} i^i $$\n",
    "\n",
    "- It is guaranteed that $B > A$.\n",
    "\n",
    "In other words, **Given A and B, find out the SUM OF ALL NUMBERS POWERED TO THEMSELVES FROM B TO A (INCLUSIVE)**\n",
    "\n",
    "***Example:***\n",
    "\n",
    "Let's suppose A = 1 and B = 5, Now you have to find out\n",
    "\n",
    "$ 5^5 + 4^4 + 3^3 + 2^2 + 1^1  = 3125 + 256 + 27 + 4 + 1 = 3413 $\n",
    "\n",
    "**Sample I/O**  \n",
    "\n",
    "***Input1:***  \n",
    "1 5  \n",
    "***Output1:***  \n",
    "3413  \n",
    "\n",
    "***Input2:***  \n",
    "16 19  \n",
    "***Output2:***  \n",
    "2018611750741570173015196  \n",
    "\n",
    "***Input3:***  \n",
    "25 30  \n",
    "***Output3:***  \n",
    "208492413442349129724364183223179821729658409  \n",
    "\n",
    "***Input4:***  \n",
    "99 100  \n",
    "***Output4:***  \n",
    "100369729637649726772657187905628805440595668764281741102430259972423552570455277523421410650010128232727940978889548326540119429996769494359451621570193644014418071060667659301384999779999159200499899"
   ]
  },
  {
   "cell_type": "code",
   "execution_count": null,
   "id": "eb69a013",
   "metadata": {},
   "outputs": [],
   "source": [
    "# Write your code here using while loop\n"
   ]
  },
  {
   "cell_type": "code",
   "execution_count": null,
   "id": "767c3425",
   "metadata": {},
   "outputs": [],
   "source": [
    "# Write your code here using for loop\n"
   ]
  },
  {
   "cell_type": "markdown",
   "id": "0bc10cd2",
   "metadata": {},
   "source": [
    "## Exercise 6\n",
    "\n",
    "**Given two values A and B find out the following sum**\n",
    "\n",
    "$$ \\sum_{i=A}^{B} \\sqrt{i} $$\n",
    "\n",
    "- It is guaranteed that $A < B$.\n",
    "\n",
    "In other words, **Given A and B, find out the SUM OF SQUARE ROOT OF ALL NUMBERS FROM A TO B (INCLUSIVE)**\n",
    "\n",
    "***Example:***\n",
    "\n",
    "Let's suppose A = 1 and B = 5, Now you have to find out\n",
    "\n",
    "$ \\sqrt 1 + \\sqrt 2 + \\sqrt 3 + \\sqrt 4 + \\sqrt 5  = 8.3823 $\n",
    "\n",
    "- **Adjust the result to 4 decimal values after point**\n",
    "\n",
    "**Sample I/O**  \n",
    "\n",
    "***Input1:***  \n",
    "1 5  \n",
    "***Output1:***  \n",
    "8.3823  \n",
    "\n",
    "***Input2:***  \n",
    "17 23  \n",
    "***Output2:***  \n",
    "31.2656  \n",
    "\n",
    "***Input3:***  \n",
    "123 231  \n",
    "***Output3:***  \n",
    "1444.3170  \n",
    "\n",
    "***Input4:***  \n",
    "1000 1001  \n",
    "***Output4:***  \n",
    "63.2614"
   ]
  },
  {
   "cell_type": "code",
   "execution_count": 3,
   "id": "099357e6",
   "metadata": {},
   "outputs": [],
   "source": [
    "# Write your code here using while loop\n"
   ]
  },
  {
   "cell_type": "code",
   "execution_count": null,
   "id": "cf3c7fda",
   "metadata": {},
   "outputs": [],
   "source": [
    "# Write your code here using for loop\n"
   ]
  },
  {
   "cell_type": "markdown",
   "id": "e12ebe3f",
   "metadata": {},
   "source": [
    "## Exercise 7\n",
    "\n",
    "**Find out the FACTORIAL of a given number N.**\n",
    "\n",
    "\n",
    "*Factorial of a given number **N** can be defined formally as follows*\n",
    "\n",
    "$$ \\prod_{i=N}^{1} i \\\\ or \\\\ \\prod_{i=1}^{N} i $$\n",
    "\n",
    "\n",
    "Informally, Factorial of a number N is the product of all the numbers from ***N to 1*** or ***1 to N***.\n",
    "\n",
    "***Example:***\n",
    "\n",
    "If ***N = 5***, then\n",
    "\n",
    "$$ 5 \\times 4 \\times 3 \\times 2 \\times 1 = 120 \\\\ or \\\\ 1 \\times 2 \\times 3 \\times 4 \\times 5 = 120 $$\n",
    " \n",
    "**Sample I/O**  \n",
    "\n",
    "***Input1:***  \n",
    "5<br>\n",
    "***Output1:***  \n",
    "120  \n",
    "\n",
    "***Input2:***  \n",
    "17  \n",
    "***Output2:***  \n",
    "355687428096000  \n",
    "\n",
    "***Input3:***  \n",
    "23  \n",
    "***Output3:***  \n",
    "25852016738884976640000  \n",
    "\n",
    "***Input4:***  \n",
    "107  \n",
    "***Output4:***  \n",
    "12265202031961379393517517010387338887131568154382945052653251412013535324922144249034658613287059061933743916719318560380966506520420000368175349760000000000000000000000000  "
   ]
  },
  {
   "cell_type": "code",
   "execution_count": null,
   "id": "56755828",
   "metadata": {},
   "outputs": [],
   "source": [
    "# Write your code here using while loop\n"
   ]
  },
  {
   "cell_type": "code",
   "execution_count": null,
   "id": "9c1f2f4b",
   "metadata": {},
   "outputs": [],
   "source": [
    "# Write your code here using for loop\n"
   ]
  },
  {
   "cell_type": "markdown",
   "id": "b9318c73",
   "metadata": {},
   "source": [
    "## Exercise 8\n",
    "\n",
    "**Given two numbers A and B find out the DIFFERENCE BETWEEN THE PRODUCT OF ALL NUMBERS FROM A TO B (INCLUSIVE) AND THE SUM OF ALL NUMBERS FROM A TO B (INCLUSIVE).**\n",
    "\n",
    "- It's guaranteed that **A < B**\n",
    "\n",
    "\n",
    "More formally\n",
    "\n",
    "Given **A** and **B**, find out\n",
    "\n",
    "$$ \\prod_{i=A}^{B} i - \\sum_{i=A}^{B} i $$\n",
    "\n",
    "***Exmaple:***\n",
    "\n",
    "Let's suppose A = 1 and B = 5, then\n",
    "\n",
    "$$ (1 \\times 2 \\times 3 \\times 4 \\times 5) - (1 + 2 + 3 + 4 + 5) = 120 - 15 = 105 $$\n",
    "\n",
    "**Sample I/O**  \n",
    "\n",
    "***Input1:***  \n",
    "1 5  \n",
    "***Output1:***  \n",
    "105  \n",
    "\n",
    "***Input2:***  \n",
    "12 24  \n",
    "***Output2:***  \n",
    "15543540607794966  \n",
    "\n",
    "***Input3:***  \n",
    "6 7  \n",
    "***Output3:***  \n",
    "29  \n",
    "\n",
    "***Input4:***  \n",
    "35 43   \n",
    "***Output4:***  \n",
    "204636013545249  "
   ]
  },
  {
   "cell_type": "code",
   "execution_count": null,
   "id": "af05c8da",
   "metadata": {},
   "outputs": [],
   "source": [
    "# Write your code here using while loop\n"
   ]
  },
  {
   "cell_type": "code",
   "execution_count": null,
   "id": "0303ba84",
   "metadata": {},
   "outputs": [],
   "source": [
    "# Write your code here using for loop\n"
   ]
  },
  {
   "cell_type": "markdown",
   "id": "419dd6b6",
   "metadata": {},
   "source": [
    "## Exercise 9\n",
    "\n",
    "***Given two values A and B,  find out the following.***\n",
    "\n",
    "$$ \\sqrt {\\left( \\sum_{i=A}^{B} (i \\times (i + 1)) \\right)} $$\n",
    "\n",
    "- It is guaranteed that $ A < B $\n",
    "\n",
    "Informally, find out the square root of the sum of every number multiplied with next number from A to B (Inclusive)\n",
    "\n",
    "***Example:***\n",
    "\n",
    "Let A = 2 and B = 4, then the result is\n",
    "\n",
    "$$ \\sqrt{(2 \\times 3) + (3 \\times 4) + (4 \\times 5)} = \\sqrt{6 + 12 + 20} = \\sqrt{38} = 6.164 $$\n",
    "\n",
    "- **Adjust the result to 3 decimal values after point**\n",
    "\n",
    "**Sample I/O**  \n",
    "\n",
    "***Input1:***  \n",
    "2 4  \n",
    "***Output1:***  \n",
    "6.164  \n",
    "\n",
    "***Input2:***  \n",
    "18 27  \n",
    "***Output2:***  \n",
    "73.280  \n",
    "\n",
    "***Input3:***  \n",
    "231 496  \n",
    "***Output3:***  \n",
    "6067.312    \n",
    "\n",
    "***Input4:***  \n",
    "7641 7643  \n",
    "***Output4:***  \n",
    "13237.198  "
   ]
  },
  {
   "cell_type": "code",
   "execution_count": 1,
   "id": "71668376",
   "metadata": {},
   "outputs": [],
   "source": [
    "# Write your code here using while loop\n"
   ]
  },
  {
   "cell_type": "code",
   "execution_count": 2,
   "id": "85808839",
   "metadata": {},
   "outputs": [],
   "source": [
    "# Write your code here using for loop\n"
   ]
  }
 ],
 "metadata": {
  "kernelspec": {
   "display_name": "Python 3 (ipykernel)",
   "language": "python",
   "name": "python3"
  },
  "language_info": {
   "codemirror_mode": {
    "name": "ipython",
    "version": 3
   },
   "file_extension": ".py",
   "mimetype": "text/x-python",
   "name": "python",
   "nbconvert_exporter": "python",
   "pygments_lexer": "ipython3",
   "version": "3.10.4"
  },
  "latex_envs": {
   "LaTeX_envs_menu_present": true,
   "autoclose": false,
   "autocomplete": true,
   "bibliofile": "biblio.bib",
   "cite_by": "apalike",
   "current_citInitial": 1,
   "eqLabelWithNumbers": true,
   "eqNumInitial": 1,
   "hotkeys": {
    "equation": "Ctrl-E",
    "itemize": "Ctrl-I"
   },
   "labels_anchors": false,
   "latex_user_defs": false,
   "report_style_numbering": false,
   "user_envs_cfg": false
  },
  "toc": {
   "base_numbering": 1,
   "nav_menu": {},
   "number_sections": true,
   "sideBar": true,
   "skip_h1_title": false,
   "title_cell": "Table of Contents",
   "title_sidebar": "Contents",
   "toc_cell": false,
   "toc_position": {},
   "toc_section_display": true,
   "toc_window_display": false
  }
 },
 "nbformat": 4,
 "nbformat_minor": 5
}
