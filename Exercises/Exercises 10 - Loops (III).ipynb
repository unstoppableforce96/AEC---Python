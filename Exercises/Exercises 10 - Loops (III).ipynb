{
 "cells": [
  {
   "cell_type": "markdown",
   "id": "a6ae83f1",
   "metadata": {},
   "source": [
    "# Programs on Loops (III) -  Using Conditionals in Loops"
   ]
  },
  {
   "cell_type": "markdown",
   "id": "d3bfbdde",
   "metadata": {},
   "source": [
    "## Exercise 1\n",
    "\n",
    "**Given two numbers A and B. Print all the EVEN NUMBERS from A to B (Inclusive)**\n",
    "\n",
    "- It's guaranteed that $ A \\leq B $\n",
    "\n",
    "**Sample I/O**  \n",
    "\n",
    "***Input1:***  \n",
    "2 10  \n",
    "***Output1:***  \n",
    "2 4 6 8 10  \n",
    "\n",
    "***Input2:***  \n",
    "12 19  \n",
    "***Output2:***  \n",
    "12 14 16 18  \n",
    "\n",
    "***Input3:***  \n",
    "101 201  \n",
    "***Output3:***  \n",
    "102 104 106 108 110 112 114 116 118 120 122 124 126 128 130 132 134 136 138 140 142 144 146 148 150 152 154 156 158 160 162 164 166 168 170 172 174 176 178 180 182 184 186 188 190 192 194 196 198 200  \n",
    "\n",
    "***Input4:***  \n",
    "2795 2840  \n",
    "***Output4:***  \n",
    "2796 2798 2800 2802 2804 2806 2808 2810 2812 2814 2816 2818 2820 2822 2824 2826 2828 2830 2832 2834 2836 2838 2840  "
   ]
  },
  {
   "cell_type": "code",
   "execution_count": 18,
   "id": "20e100d0",
   "metadata": {},
   "outputs": [],
   "source": [
    "# Write your code here using while loop\n"
   ]
  },
  {
   "cell_type": "code",
   "execution_count": 17,
   "id": "f9643796",
   "metadata": {},
   "outputs": [],
   "source": [
    "# Write your code here using for loop\n"
   ]
  },
  {
   "cell_type": "markdown",
   "id": "d0abd3f5",
   "metadata": {},
   "source": [
    "## Exercise 2\n",
    "\n",
    "**Given two numbers A and B. Print all the ODD NUMBERS from B to A (Inclusive)**\n",
    "\n",
    "- It's guaranteed that $ B \\geq A $\n",
    "\n",
    "**Sample I/O**  \n",
    "\n",
    "***Input1:***  \n",
    "2 10  \n",
    "***Output1:***  \n",
    "9 7 5 3  \n",
    "\n",
    "***Input2:***  \n",
    "12 19  \n",
    "***Output2:***  \n",
    "19 17 15 13  \n",
    "\n",
    "***Input3:***  \n",
    "101 201  \n",
    "***Output3:***  \n",
    "201 199 197 195 193 191 189 187 185 183 181 179 177 175 173 171 169 167 165 163 161 159 157 155 153 151 149 147 145 143 141 139 137 135 133 131 129 127 125 123 121 119 117 115 113 111 109 107 105 103 101  \n",
    "\n",
    "***Input4:***  \n",
    "2795 2840  \n",
    "***Output4:***  \n",
    "2839 2837 2835 2833 2831 2829 2827 2825 2823 2821 2819 2817 2815 2813 2811 2809 2807 2805 2803 2801 2799 2797 2795  "
   ]
  },
  {
   "cell_type": "code",
   "execution_count": null,
   "id": "6f794811",
   "metadata": {},
   "outputs": [],
   "source": [
    "# Write your code here using while loop\n"
   ]
  },
  {
   "cell_type": "code",
   "execution_count": null,
   "id": "80c11e6e",
   "metadata": {},
   "outputs": [],
   "source": [
    "# Write your code here using for loop\n"
   ]
  },
  {
   "cell_type": "markdown",
   "id": "58a3317d",
   "metadata": {},
   "source": [
    "## Definition of factor\n",
    "\n",
    "A number F can be called as factor of another number N, if the division operation on N with F yields 0 (Zero) as remainder.\n",
    "\n",
    "In other words **F** can be called as a factor (divisor) of **N**, if **N % F is equal to 0**.\n",
    "\n",
    "**Examples:**\n",
    "- 3 is a factor of 12, because 12 % 3 is 0\n",
    "- 17 is a factor of 68, becuase 68 % 17 is 0\n",
    "- 5 is **NOT** a factor of 12, as 12 % 5 is not equal to 0"
   ]
  },
  {
   "cell_type": "markdown",
   "id": "addb9f9a",
   "metadata": {},
   "source": [
    "## Exercise 3\n",
    "\n",
    "**Given a number N. Print all the factors (divisors) of that number**.\n",
    "\n",
    "\n",
    "**Sample I/O**  \n",
    "\n",
    "***Input1:***  \n",
    "5<br>\n",
    "***Output1:***  \n",
    "1 5  \n",
    "\n",
    "***Input2:***  \n",
    "10  \n",
    "***Output2:***  \n",
    "1 2 5 10  \n",
    "\n",
    "***Input3:***  \n",
    "20  \n",
    "***Output3:***  \n",
    "1 2 4 5 10 20  \n",
    "\n",
    "***Input4:***  \n",
    "120  \n",
    "***Output4:***  \n",
    "1 2 3 4 5 6 8 10 12 15 20 24 30 40 60 120  "
   ]
  },
  {
   "cell_type": "code",
   "execution_count": null,
   "id": "1de7c542",
   "metadata": {},
   "outputs": [],
   "source": [
    "# Write your code here using while loop\n"
   ]
  },
  {
   "cell_type": "code",
   "execution_count": null,
   "id": "9fc6aebf",
   "metadata": {},
   "outputs": [],
   "source": [
    "# Write your code here using for loop\n"
   ]
  },
  {
   "cell_type": "markdown",
   "id": "0edeb7c3",
   "metadata": {},
   "source": [
    "## Exercise 4\n",
    "\n",
    "**Given a number N. Find out how many total factors (divisors) does that number has.**\n",
    "\n",
    "\n",
    "**Sample I/O**  \n",
    "\n",
    "***Input1:***  \n",
    "5<br>\n",
    "***Output1:***  \n",
    "2  \n",
    "\n",
    "***Input2:***  \n",
    "10  \n",
    "***Output2:***  \n",
    "4  \n",
    "\n",
    "***Input3:***  \n",
    "20  \n",
    "***Output3:***  \n",
    "6  \n",
    "\n",
    "***Input4:***  \n",
    "120  \n",
    "***Output4:***  \n",
    "16  "
   ]
  },
  {
   "cell_type": "code",
   "execution_count": null,
   "id": "c33c7d73",
   "metadata": {},
   "outputs": [],
   "source": [
    "# Write your code here using while loop\n"
   ]
  },
  {
   "cell_type": "code",
   "execution_count": null,
   "id": "fe09666b",
   "metadata": {},
   "outputs": [],
   "source": [
    "# Write your code here using for loop\n"
   ]
  },
  {
   "cell_type": "markdown",
   "id": "61457c2b",
   "metadata": {},
   "source": [
    "## Exercise 5\n",
    "\n",
    "**Given a number N. Find out if it's PRIME NUMBER OR NOT.**\n",
    "\n",
    "**PRIME NUMBER:**  \n",
    "\n",
    "A number P is called as PRIME NUMBER, if it's only divisible by 1 and itself.  \n",
    "\n",
    "In other words P is called a PRIME NUMBER, if it's factors are 1 & P.  \n",
    "\n",
    "**Example:**  \n",
    "3 is PRIME becuase it's only factors are 1 and 3  \n",
    "5 is PRIME becuase it's only factors are 1 and 5  \n",
    "7 is PRIME becuase it's only factors are 1 and 7  \n",
    "\n",
    "On the other hand  \n",
    "4 is NOT PRIME, as it's having 2 as a factor, along with 1 and 4  \n",
    "9 is NOT PRIME, as it's having 3 as a factor, along with 1 and 9  \n",
    "8 is NOT PRIME, as it's having 2, 4 as factors, along with 1 and 8.  \n",
    "\n",
    "*You can say that a number P is a prime, if it's having ONLY TWO (2) FACTORS (DIVISORS)*\n",
    "\n",
    "**Sample I/O**  \n",
    "\n",
    "***Input1:***  \n",
    "5<br>\n",
    "***Output1:***  \n",
    "PRIME  \n",
    "\n",
    "***Input2:***  \n",
    "10  \n",
    "***Output2:***  \n",
    "NOT PRIME  \n",
    "\n",
    "***Input3:***  \n",
    "23  \n",
    "***Output3:***  \n",
    "PRIME  \n",
    "\n",
    "***Input4:***  \n",
    "121  \n",
    "***Output4:***  \n",
    "NOT PRIME  "
   ]
  },
  {
   "cell_type": "code",
   "execution_count": null,
   "id": "6a2b4b33",
   "metadata": {},
   "outputs": [],
   "source": [
    "# Write your code here using while loop\n"
   ]
  },
  {
   "cell_type": "code",
   "execution_count": null,
   "id": "ef1e30b6",
   "metadata": {},
   "outputs": [],
   "source": [
    "# Write your code here using for loop\n"
   ]
  },
  {
   "cell_type": "markdown",
   "id": "2791b281",
   "metadata": {},
   "source": [
    "## Exercise 6\n",
    "\n",
    "**Given a number N. Find out the sum all the factors of that number.**\n",
    "\n",
    "**Example:**  \n",
    "Let's suppose N = 8,  \n",
    "Factors (divisors) of 8 are  \n",
    "1 2 4 8  \n",
    "sum of them is 1 + 2 + 4 + 8 --> 15  \n",
    "\n",
    "\n",
    "**Sample I/O**  \n",
    "\n",
    "***Input1:***  \n",
    "8<br>\n",
    "***Output1:***  \n",
    "15  \n",
    "\n",
    "***Input2:***  \n",
    "10  \n",
    "***Output2:***  \n",
    "18  \n",
    "\n",
    "***Input3:***  \n",
    "20  \n",
    "***Output3:***  \n",
    "42  \n",
    "\n",
    "***Input4:***  \n",
    "120  \n",
    "***Output4:***  \n",
    "360  "
   ]
  },
  {
   "cell_type": "code",
   "execution_count": null,
   "id": "eb69a013",
   "metadata": {},
   "outputs": [],
   "source": [
    "# Write your code here using while loop\n"
   ]
  },
  {
   "cell_type": "code",
   "execution_count": null,
   "id": "767c3425",
   "metadata": {},
   "outputs": [],
   "source": [
    "# Write your code here using for loop\n"
   ]
  },
  {
   "cell_type": "markdown",
   "id": "0bc10cd2",
   "metadata": {},
   "source": [
    "## Exercise 7\n",
    "\n",
    "**Given three numbers A, B and X.  Print all the numbers A to B (Inclusive) that are divisible by X. Also find out the sum of those numbers.**\n",
    "\n",
    "**Example:**\n",
    "\n",
    "If A = 22, B = 47 and X = 7, then   \n",
    "the numbers from 22 to 47 that are divisible by 7 are **28 35 42** and their sum **28 + 35 + 42 = 105**\n",
    "\n",
    "\n",
    "- It's guaranteed that A < B\n",
    "\n",
    "**Sample I/O**  \n",
    "\n",
    "***Input1:***  \n",
    "22 47 7  \n",
    "***Output1:***  \n",
    "28 35 42  \n",
    "Sum is 105  \n",
    "\n",
    "***Input2:***  \n",
    "100 200 10  \n",
    "***Output2:***  \n",
    "100 110 120 130 140 150 160 170 180 190 200  \n",
    "Sum is 1650  \n",
    "\n",
    "***Input3:***  \n",
    "974 1085 18  \n",
    "***Output3:***  \n",
    "990 1008 1026 1044 1062 1080  \n",
    "Sum is 6210  \n",
    "\n",
    "***Input4:***  \n",
    "1 10 1  \n",
    "***Output4:***  \n",
    "1 2 3 4 5 6 7 8 9 10  \n",
    "Sum is 55  "
   ]
  },
  {
   "cell_type": "code",
   "execution_count": null,
   "id": "099357e6",
   "metadata": {},
   "outputs": [],
   "source": [
    "# Write your code here using while loop\n"
   ]
  },
  {
   "cell_type": "code",
   "execution_count": null,
   "id": "cf3c7fda",
   "metadata": {},
   "outputs": [],
   "source": [
    "# Write your code here using for loop\n"
   ]
  },
  {
   "cell_type": "markdown",
   "id": "e12ebe3f",
   "metadata": {},
   "source": [
    "## Exercise 8\n",
    "\n",
    "**Given four Integers A, B, X and Y.**\n",
    "\n",
    "**Find out the SUM OF ALL NUMBERS FROM A TO B (INCLUSIVE) that are DIVISIBLE BY X, BUT NOT BY Y.**\n",
    "\n",
    "\n",
    "***Example:***\n",
    "\n",
    "If ***A = 10, B = 20, X = 3, Y = 5***, then  \n",
    "the numbers from **10 to 20 that are DIVISIBLE BY 3 BUT NOT BY 5** are **12 18** and **12 + 18** is 30.  \n",
    "\n",
    "- It's guaranteed that A < B.\n",
    " \n",
    "**Sample I/O**  \n",
    "\n",
    "***Input1:***  \n",
    "10 20 3 5<br>\n",
    "***Output1:***  \n",
    "30  \n",
    "\n",
    "***Input2:***  \n",
    "50 100 6 8  \n",
    "***Output2:***  \n",
    "432  \n",
    "\n",
    "***Input3:***  \n",
    "1 10 3 1  \n",
    "***Output3:***  \n",
    "0\n",
    "\n",
    "***Input4:***  \n",
    "1 10 3 2  \n",
    "***Output4:***  \n",
    "12  "
   ]
  },
  {
   "cell_type": "code",
   "execution_count": 1,
   "id": "56755828",
   "metadata": {},
   "outputs": [],
   "source": [
    "# Write your code here using while loop\n"
   ]
  },
  {
   "cell_type": "code",
   "execution_count": null,
   "id": "9c1f2f4b",
   "metadata": {},
   "outputs": [],
   "source": [
    "# Write your code here using for loop\n"
   ]
  }
 ],
 "metadata": {
  "kernelspec": {
   "display_name": "Python 3 (ipykernel)",
   "language": "python",
   "name": "python3"
  },
  "language_info": {
   "codemirror_mode": {
    "name": "ipython",
    "version": 3
   },
   "file_extension": ".py",
   "mimetype": "text/x-python",
   "name": "python",
   "nbconvert_exporter": "python",
   "pygments_lexer": "ipython3",
   "version": "3.10.4"
  },
  "latex_envs": {
   "LaTeX_envs_menu_present": true,
   "autoclose": false,
   "autocomplete": true,
   "bibliofile": "biblio.bib",
   "cite_by": "apalike",
   "current_citInitial": 1,
   "eqLabelWithNumbers": true,
   "eqNumInitial": 1,
   "hotkeys": {
    "equation": "Ctrl-E",
    "itemize": "Ctrl-I"
   },
   "labels_anchors": false,
   "latex_user_defs": false,
   "report_style_numbering": false,
   "user_envs_cfg": false
  },
  "toc": {
   "base_numbering": 1,
   "nav_menu": {},
   "number_sections": true,
   "sideBar": true,
   "skip_h1_title": false,
   "title_cell": "Table of Contents",
   "title_sidebar": "Contents",
   "toc_cell": false,
   "toc_position": {},
   "toc_section_display": true,
   "toc_window_display": false
  }
 },
 "nbformat": 4,
 "nbformat_minor": 5
}
