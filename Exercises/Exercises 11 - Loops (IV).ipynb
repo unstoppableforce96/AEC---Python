{
 "cells": [
  {
   "cell_type": "markdown",
   "id": "a6ae83f1",
   "metadata": {},
   "source": [
    "# Programs on Loops (IV) -  Dealing with digits"
   ]
  },
  {
   "cell_type": "markdown",
   "id": "d3bfbdde",
   "metadata": {},
   "source": [
    "## Exercise 1\n",
    "\n",
    "**Find out the sum of digits of a given number N**\n",
    "\n",
    "**Example:**\n",
    "\n",
    "If **N = 345** then,  \n",
    "\n",
    "3 + 4 + 5 = 12 is the answer  \n",
    "\n",
    "**Sample I/O**  \n",
    "\n",
    "***Input1:***  \n",
    "123  \n",
    "***Output1:***  \n",
    "6<br>\n",
    "\n",
    "***Input2:***  \n",
    "179  \n",
    "***Output2:***  \n",
    "17  \n",
    "\n",
    "***Input3:***  \n",
    "79  \n",
    "***Output3:***  \n",
    "16  \n",
    "\n",
    "***Input4:***  \n",
    "1257  \n",
    "***Output4:***  \n",
    "15  "
   ]
  },
  {
   "cell_type": "code",
   "execution_count": 1,
   "id": "20e100d0",
   "metadata": {},
   "outputs": [],
   "source": [
    "# Write your code here using while loop\n"
   ]
  },
  {
   "cell_type": "code",
   "execution_count": null,
   "id": "f9643796",
   "metadata": {},
   "outputs": [],
   "source": [
    "# Write your code here using for loop\n"
   ]
  },
  {
   "cell_type": "markdown",
   "id": "d0abd3f5",
   "metadata": {},
   "source": [
    "## Exercise 2\n",
    "\n",
    "**Find out the product of digits of a given number N**\n",
    "\n",
    "**Example:**\n",
    "\n",
    "If **N = 345** then,  \n",
    "\n",
    "3 x 4 x 5 = 60 is the answer  \n",
    "\n",
    "**Sample I/O**  \n",
    "\n",
    "***Input1:***  \n",
    "123  \n",
    "***Output1:***  \n",
    "6<br>\n",
    "\n",
    "***Input2:***  \n",
    "179  \n",
    "***Output2:***  \n",
    "63  \n",
    "\n",
    "***Input3:***  \n",
    "78  \n",
    "***Output3:***  \n",
    "56  \n",
    "\n",
    "***Input4:***  \n",
    "1257  \n",
    "***Output4:***  \n",
    "70  "
   ]
  },
  {
   "cell_type": "code",
   "execution_count": null,
   "id": "6f794811",
   "metadata": {},
   "outputs": [],
   "source": [
    "# Write your code here using while loop\n"
   ]
  },
  {
   "cell_type": "code",
   "execution_count": null,
   "id": "80c11e6e",
   "metadata": {},
   "outputs": [],
   "source": [
    "# Write your code here using for loop\n"
   ]
  },
  {
   "cell_type": "markdown",
   "id": "addb9f9a",
   "metadata": {},
   "source": [
    "## Exercise 3\n",
    "\n",
    "**Given a number N, find out how many EVEN DIGITS and ODD DIGITS are there in that number.**\n",
    "\n",
    "- Consider 0 as EVEN DIGIT\n",
    "\n",
    "**Example:**  \n",
    "If given number **N is 34761**, then  \n",
    "**No. of EVEN DIGITS is 2**  \n",
    "**No. of ODD DIGITS is 3**  \n",
    "So the answer is 2 3\n",
    "\n",
    "\n",
    "**Sample I/O**  \n",
    "\n",
    "***Input1:***  \n",
    "7<br>\n",
    "***Output1:***  \n",
    "0 1  \n",
    "\n",
    "***Input2:***  \n",
    "103  \n",
    "***Output2:***  \n",
    "1 2  \n",
    "\n",
    "***Input3:***  \n",
    "1234567890987654321  \n",
    "***Output3:***  \n",
    "9 10  \n",
    "\n",
    "***Input4:***  \n",
    "2222  \n",
    "***Output4:***  \n",
    "4 0  "
   ]
  },
  {
   "cell_type": "code",
   "execution_count": null,
   "id": "1de7c542",
   "metadata": {},
   "outputs": [],
   "source": [
    "# Write your code here using while loop\n"
   ]
  },
  {
   "cell_type": "code",
   "execution_count": null,
   "id": "9fc6aebf",
   "metadata": {},
   "outputs": [],
   "source": [
    "# Write your code here using for loop\n"
   ]
  },
  {
   "cell_type": "markdown",
   "id": "0edeb7c3",
   "metadata": {},
   "source": [
    "## Exercise 4\n",
    "\n",
    "**Given a number N, find out the sum of EVEN DIGITS and sum of ODD DIGITS in that number.**\n",
    "\n",
    "- Consider 0 as EVEN DIGIT\n",
    "\n",
    "**Example:**  \n",
    "If given number **N is 34761**, then  \n",
    "Even digits are 4 and 6 and their sum is 10  \n",
    "Odd digits are 3, 7 and 1 and their sum is 11  \n",
    "So the answer is 10 11\n",
    "\n",
    "\n",
    "**Sample I/O**  \n",
    "\n",
    "***Input1:***  \n",
    "7<br>\n",
    "***Output1:***  \n",
    "0 7  \n",
    "\n",
    "***Input2:***  \n",
    "1294  \n",
    "***Output2:***  \n",
    "6 10  \n",
    "\n",
    "***Input3:***  \n",
    "33332142  \n",
    "***Output3:***  \n",
    "8 13  \n",
    "\n",
    "***Input4:***  \n",
    "22222  \n",
    "***Output4:***  \n",
    "10 0  "
   ]
  },
  {
   "cell_type": "code",
   "execution_count": null,
   "id": "c33c7d73",
   "metadata": {},
   "outputs": [],
   "source": [
    "# Write your code here using while loop\n"
   ]
  },
  {
   "cell_type": "code",
   "execution_count": null,
   "id": "fe09666b",
   "metadata": {},
   "outputs": [],
   "source": [
    "# Write your code here using for loop\n"
   ]
  },
  {
   "cell_type": "markdown",
   "id": "2791b281",
   "metadata": {},
   "source": [
    "## Exercise 5\n",
    "\n",
    "**Given a number N. Find out the The absolute difference between X and Y**  \n",
    "\n",
    "Where **X is the sum of squares of digits of N**  \n",
    "and   **Y is the square of sum of digits of N**\n",
    "\n",
    "\n",
    "***Example:***\n",
    "\n",
    "Let's suppose **N = 1234** then  \n",
    "\n",
    "**X (Sum of squares of digits of N) = $ 1^2 + 2^2 + 3^2 + 4^2 = 1 + 4 + 9 + 16 = 30 $**  \n",
    "\n",
    "**Y (Square of sum of digits of N) = $ (1 + 2 + 3 + 4)^2 = (10)^2 = 100 $**  \n",
    "\n",
    "And the **Absolute difference of 30 and 100 is 70**.\n",
    "\n",
    "\n",
    "**Sample I/O**  \n",
    "\n",
    "***Input1:***  \n",
    "1234  \n",
    "***Output1:***  \n",
    "70  \n",
    "\n",
    "***Input2:***  \n",
    "7826  \n",
    "***Output2:***  \n",
    "376  \n",
    "\n",
    "***Input3:***  \n",
    "971432  \n",
    "***Output3:***  \n",
    "516  \n",
    "\n",
    "***Input4:***  \n",
    "1234567890  \n",
    "***Output4:***  \n",
    "1740  "
   ]
  },
  {
   "cell_type": "code",
   "execution_count": null,
   "id": "eb69a013",
   "metadata": {},
   "outputs": [],
   "source": [
    "# Write your code here using while loop\n"
   ]
  },
  {
   "cell_type": "code",
   "execution_count": null,
   "id": "767c3425",
   "metadata": {},
   "outputs": [],
   "source": [
    "# Write your code here using for loop\n"
   ]
  },
  {
   "cell_type": "markdown",
   "id": "0bc10cd2",
   "metadata": {},
   "source": [
    "## Exercise 6\n",
    "\n",
    "**Given a number N find out the sum of X and Y**\n",
    "\n",
    "Here,   \n",
    "**X = Sum of squares of EVEN DIGITS of N**  \n",
    "**Y = Sum of cubes of ODD DIGITS of N**.  \n",
    "\n",
    "***Example:***\n",
    "\n",
    "Let's suppose **N = 1234**,   \n",
    "then, \n",
    "\n",
    "**X = $ 2^2 + 4^2 = 4 + 16 = 20 $**  \n",
    "\n",
    "**Y = $ 1^3 + 3^3 = 1 + 27 = 28 $**  \n",
    "\n",
    "and Sum of 20 and 28 = 48.  \n",
    "\n",
    "**Sample I/O**  \n",
    "\n",
    "***Input1:***  \n",
    "1234  \n",
    "***Output1:***  \n",
    "48  \n",
    "\n",
    "***Input2:***  \n",
    "7826  \n",
    "***Output2:***  \n",
    "447  \n",
    "\n",
    "***Input3:***  \n",
    "971432  \n",
    "***Output3:***  \n",
    "1120  \n",
    "\n",
    "***Input4:***  \n",
    "1234567890  \n",
    "***Output4:***  \n",
    "1345  "
   ]
  },
  {
   "cell_type": "code",
   "execution_count": null,
   "id": "099357e6",
   "metadata": {},
   "outputs": [],
   "source": [
    "# Write your code here using while loop\n"
   ]
  },
  {
   "cell_type": "code",
   "execution_count": null,
   "id": "cf3c7fda",
   "metadata": {},
   "outputs": [],
   "source": [
    "# Write your code here using for loop\n"
   ]
  }
 ],
 "metadata": {
  "kernelspec": {
   "display_name": "Python 3 (ipykernel)",
   "language": "python",
   "name": "python3"
  },
  "language_info": {
   "codemirror_mode": {
    "name": "ipython",
    "version": 3
   },
   "file_extension": ".py",
   "mimetype": "text/x-python",
   "name": "python",
   "nbconvert_exporter": "python",
   "pygments_lexer": "ipython3",
   "version": "3.10.4"
  },
  "latex_envs": {
   "LaTeX_envs_menu_present": true,
   "autoclose": false,
   "autocomplete": true,
   "bibliofile": "biblio.bib",
   "cite_by": "apalike",
   "current_citInitial": 1,
   "eqLabelWithNumbers": true,
   "eqNumInitial": 1,
   "hotkeys": {
    "equation": "Ctrl-E",
    "itemize": "Ctrl-I"
   },
   "labels_anchors": false,
   "latex_user_defs": false,
   "report_style_numbering": false,
   "user_envs_cfg": false
  },
  "toc": {
   "base_numbering": 1,
   "nav_menu": {},
   "number_sections": true,
   "sideBar": true,
   "skip_h1_title": false,
   "title_cell": "Table of Contents",
   "title_sidebar": "Contents",
   "toc_cell": false,
   "toc_position": {},
   "toc_section_display": true,
   "toc_window_display": false
  }
 },
 "nbformat": 4,
 "nbformat_minor": 5
}
